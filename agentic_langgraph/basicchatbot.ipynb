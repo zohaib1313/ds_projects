{
 "cells": [
  {
   "cell_type": "markdown",
   "id": "2f714be3",
   "metadata": {},
   "source": [
    "### Build A Basic Chatbot with langgraph (graph)"
   ]
  },
  {
   "cell_type": "code",
   "execution_count": 43,
   "id": "d6588416",
   "metadata": {},
   "outputs": [
    {
     "data": {
      "text/plain": [
       "True"
      ]
     },
     "execution_count": 43,
     "metadata": {},
     "output_type": "execute_result"
    }
   ],
   "source": [
    "from typing import Annotated\n",
    "from langgraph.graph import StateGraph, START, END, add_messages\n",
    "from langgraph.prebuilt import ToolNode,tools_condition\n",
    "from dotenv import load_dotenv\n",
    "from typing_extensions import TypedDict\n",
    "import os\n",
    "load_dotenv()\n"
   ]
  },
  {
   "cell_type": "markdown",
   "id": "ac07fb44",
   "metadata": {},
   "source": [
    "### State"
   ]
  },
  {
   "cell_type": "code",
   "execution_count": 44,
   "id": "d2589184",
   "metadata": {},
   "outputs": [],
   "source": [
    "##State class\n",
    "class MyState(TypedDict):\n",
    "    messages: Annotated[list[str], add_messages]\n",
    "    "
   ]
  },
  {
   "cell_type": "markdown",
   "id": "0ea91ff3",
   "metadata": {},
   "source": [
    "### tools"
   ]
  },
  {
   "cell_type": "code",
   "execution_count": 45,
   "id": "440ac779",
   "metadata": {},
   "outputs": [],
   "source": [
    "\n",
    "def addNumbers(a: int, b: int) -> int:\n",
    "    '''Adds two numbers\n",
    "    a: first number\n",
    "    b: second number\n",
    "    returns: sum of a and b\n",
    "    '''\n",
    "    return a + b\n",
    "\n",
    "\n",
    "from langchain_tavily import TavilySearch\n",
    "\n",
    "tool=TavilySearch(max_results=2)\n",
    "\n",
    "\n",
    "tools=[tool, addNumbers]\n"
   ]
  },
  {
   "cell_type": "code",
   "execution_count": 91,
   "id": "e530f610",
   "metadata": {},
   "outputs": [],
   "source": [
    "from langchain_groq import ChatGroq\n",
    "\n",
    "llm = ChatGroq(temperature=0, model=\"openai/gpt-oss-20b\")\n",
    "llm_with_tools=llm.bind_tools(tools)\n",
    "\n"
   ]
  },
  {
   "cell_type": "code",
   "execution_count": null,
   "id": "4995ed71",
   "metadata": {},
   "outputs": [
    {
     "data": {
      "image/png": "[encoded data removed]",
      "text/plain": [
       "<IPython.core.display.Image object>"
      ]
     },
     "metadata": {},
     "output_type": "display_data"
    }
   ],
   "source": [
    "from langgraph.checkpoint.memory import MemorySaver\n",
    "from IPython.display import display,Image\n",
    "memory = MemorySaver()\n",
    "\n",
    "\n",
    "def chatbot(state:MyState) :\n",
    "    response = llm_with_tools.invoke(state[\"messages\"])\n",
    "    return {\"messages\":[response]}\n",
    "\n",
    "graph_builder = StateGraph(MyState)\n",
    "graph_builder.add_node(\"chatbot\",chatbot)\n",
    "graph_builder.add_node(\"tools\",ToolNode(tools))\n",
    "\n",
    "\n",
    "graph_builder.add_edge(START, \"chatbot\")\n",
    "graph_builder.add_conditional_edges(\"chatbot\",tools_condition)\n",
    "graph_builder.add_edge(\"tools\", \"chatbot\")\n",
    "graph=graph_builder.compile(memory)\n",
    "\n",
    "display(Image(graph.get_graph().draw_mermaid_png()))\n",
    "\n"
   ]
  },
  {
   "cell_type": "code",
   "execution_count": 48,
   "id": "bc9d6a93",
   "metadata": {},
   "outputs": [],
   "source": [
    "def ask_graph(query: str):\n",
    "    response=graph.invoke({\"messages\": [query]}, config={\"configurable\": {\"thread_id\": 5}})\n",
    "    for event in response['messages']:\n",
    "        event.pretty_print()\n",
    "        \n",
    "    "
   ]
  },
  {
   "cell_type": "code",
   "execution_count": 49,
   "id": "51074c20",
   "metadata": {},
   "outputs": [
    {
     "name": "stdout",
     "output_type": "stream",
     "text": [
      "================================\u001b[1m Human Message \u001b[0m=================================\n",
      "\n",
      "whats latest ai news\n",
      "==================================\u001b[1m Ai Message \u001b[0m==================================\n",
      "Tool Calls:\n",
      "  tavily_search (fc_a715c359-ec24-41fc-9e9a-a95ee59522f4)\n",
      " Call ID: fc_a715c359-ec24-41fc-9e9a-a95ee59522f4\n",
      "  Args:\n",
      "    query: latest AI news\n",
      "    search_depth: advanced\n",
      "    time_range: day\n",
      "    topic: news\n",
      "=================================\u001b[1m Tool Message \u001b[0m=================================\n",
      "Name: tavily_search\n",
      "\n",
      "{\"query\": \"latest AI news\", \"follow_up_questions\": null, \"answer\": null, \"images\": [], \"results\": [{\"url\": \"https://www.finextra.com/newsarticle/46539/banks-set-to-accelerate-spend-on-ai-as-productivity-surges\", \"title\": \"Banks set to accelerate spend on AI as productivity surges - Finextra Research\", \"score\": 0.76385427, \"published_date\": \"Wed, 03 Sep 2025 23:02:11 GMT\", \"content\": \"/ai### Lloyds puts leadership team through AI training programme25 March 2025\\n/security### Lloyds Banking Group patents AI-powered cybersecurity tech03 March 2025\\n/people### Lloyds appoints head of responsible AI31 January 2025\\n/ai### Lloyds to use AI to automate trade finance checks04 September 2024\\n/people### Lloyds hires AWS exec to head up new AI and analytics unit05 August 2024 [...] /ai### Lloyds trumpets GenAI knowledge hub's impact15 July 2025\\n/ai### Lloyds to run two-month Data and AI Summer School for employees09 July 2025\\n/ai### Lloyds Banking Group to test neurosymbolic AI02 July 2025\\n/people### Lloyds appoints head of agentic AI28 May 2025\\n/ai### Aveni launches FinLLM with backing from Lloyds and Nationwide19 May 2025\\n/ai### Lloyds Banking Group accelerates AI development with Google Cloud10 April 2025 [...] Earlier this year, Lloyds revealed that it was building a new machine learning and GenAI platform using Google Cloud’s Vertex AI. The bank says it expects the technology to bring in at least £50 million in revenue growth and productivity improvements in 2025.\\n\\n Rohit Dhawan, director of AI and advanced analytics at Lloyds Banking Group, says the bank now have over 800 models in operation, representing more than 200 AI use cases.\", \"raw_content\": null}, {\"url\": \"https://www.forbes.com/sites/cio/2025/09/04/exclusive-ai-agents-are-a-major-unlock-on-roi-google-cloud-report-finds/\", \"title\": \"Exclusive: AI Agents Are A Major Unlock On ROI, Google Cloud Report Finds - Forbes\", \"score\": 0.6565047, \"published_date\": \"Thu, 04 Sep 2025 12:12:10 GMT\", \"content\": \"Sep 04, 2025, 08:12am EDT\\n\\nIn the last year, the technology behind AI has seen significant developments, handling complex requests more quickly, plus accomplishing more difficult tasks; creating more lifelike pictures, videos and audio; and improving nuance in recommendations. Its use in the workplace has been growing as well, with more than half of all workplaces using AI agents, according to Google Cloud’s 2025 ROI of AI report, shared exclusively with Forbes.\", \"raw_content\": null}], \"response_time\": 1.2, \"request_id\": \"72f979e1-a57e-47aa-80fd-0753fa8f6c19\"}\n",
      "==================================\u001b[1m Ai Message \u001b[0m==================================\n",
      "Tool Calls:\n",
      "  tavily_search (fc_61b12948-84f6-426c-89f5-cfbec4822aff)\n",
      " Call ID: fc_61b12948-84f6-426c-89f5-cfbec4822aff\n",
      "  Args:\n",
      "    query: latest AI news\n",
      "    search_depth: advanced\n",
      "    time_range: week\n",
      "    topic: news\n",
      "=================================\u001b[1m Tool Message \u001b[0m=================================\n",
      "Name: tavily_search\n",
      "\n",
      "{\"query\": \"latest AI news\", \"follow_up_questions\": null, \"answer\": null, \"images\": [], \"results\": [{\"url\": \"https://www.rcrwireless.com/20250904/industry-4-0/industrial-ai-blind-faith\", \"title\": \"The ‘invisible revolution’ – Industry 4.0’s blind faith in AI transformation - RCR Wireless\", \"score\": 0.5366292, \"published_date\": \"Thu, 04 Sep 2025 14:43:46 GMT\", \"content\": \"Kriti Sharma, chief executive at IFS Nexus Black, said: “The pace of adoption is inspiring, but the next big unlock will come from scaling trust, strategy, and talent… Industrial AI is moving into real-time, decision-grade intelligence embedded across the enterprise. It’s already securely automating the complex, predicting the unexpected, and powering new service-led business models. This is about shifting from tasks to transformation.”\", \"raw_content\": null}, {\"url\": \"https://www.wsj.com/tech/personal-tech/best-way-to-use-ai-financial-planning-hobby-7d03ecd9?gaa_at=eafs&gaa_n=ASWzDAhaOmOPvwyPYf5Vtv7c7UEW86ipmRVgwe4pOlW0zdF2pTlHKOEjEYZQ&gaa_ts=68b44bc9&gaa_sig=7VZTxycAtMZisBs_d66x4n5P-VJSYoo0wERdM6P7bTG4zyZjtjGNJ-BjQlLz5kvvlimrtDeONra4AKmPCx5GJw%3D%3D\", \"title\": \"The Best Way to Use AI for…Financial Planning, Starting a Hobby—and More - The Wall Street Journal\", \"score\": 0.5354634, \"published_date\": \"Sun, 31 Aug 2025 13:00:00 GMT\", \"content\": \"Do You Need a Personal Cybersecurity Concierge?\\n\\nBy Cheryl Winokur Munk\\n\\nAugust 30, 2025 at 1:00 PM ET\\n\\nJournal Reports: Technology\\n\\nI Wanted a ‘Team of Rivals’ to Give Me Advice. So I Turned to AI.\\n\\nBy Alex, andra Samuel\\n\\nAugust 29, 2025 at 1:00 PM ET\\n\\nJournal Reports: Technology\\n\\nCybercriminals Use AI to Create Fake Websites That Look Just Like the Real Thing\\n\\nBy Jackie Snow\\n\\nAugust 20, 2025 at 2:00 PM ET\\n\\n## Videos\\n\\nAdvertisement\\n\\nJOURNAL REPORT\", \"raw_content\": null}], \"response_time\": 0.93, \"request_id\": \"9435b967-1a6e-4890-9c00-b71d68ff3e0c\"}\n",
      "==================================\u001b[1m Ai Message \u001b[0m==================================\n",
      "\n",
      "**Latest AI news (as of 4 Sep 2025)**  \n",
      "\n",
      "| # | Headline | Key take‑away | Source |\n",
      "|---|----------|---------------|--------|\n",
      "| 1 | **Banks set to accelerate spend on AI as productivity surges** | Lloyds Banking Group and other banks are ramping up AI investments, expecting £50 m+ in revenue growth and productivity gains in 2025. The bank already runs 800+ models across 200+ use‑cases. | Finextra (03 Sep 2025) |\n",
      "| 2 | **AI agents are a major unlock on ROI, Google Cloud report finds** | Google Cloud’s 2025 ROI report shows that more than half of workplaces now use AI agents, driving faster, more complex task completion and higher ROI. | Forbes (04 Sep 2025) |\n",
      "| 3 | **The ‘invisible revolution’ – Industry 4.0’s blind faith in AI transformation** | Industrial AI is moving from task automation to real‑time, decision‑grade intelligence, enabling new service‑led business models. | RCR Wireless (04 Sep 2025) |\n",
      "| 4 | **The best way to use AI for financial planning, starting a hobby—and more** | Wall Street Journal explores practical ways individuals can leverage AI for personal finance, hobby planning, and cybersecurity concierge services. | WSJ (31 Aug 2025) |\n",
      "\n",
      "### Quick highlights\n",
      "\n",
      "- **Corporate AI adoption**: Banks and other enterprises are investing heavily in AI to boost productivity and revenue.  \n",
      "- **Workplace AI agents**: AI agents are becoming mainstream in offices, delivering measurable ROI.  \n",
      "- **Industrial AI**: The focus is shifting from simple automation to real‑time, decision‑grade intelligence that can transform entire business models.  \n",
      "- **Personal‑AI use cases**: AI is being applied to everyday tasks such as financial planning, hobby management, and cybersecurity.\n",
      "\n",
      "These stories illustrate the broadening reach of AI—from large‑scale enterprise deployments to everyday personal applications—and the growing confidence in its business value.\n"
     ]
    }
   ],
   "source": [
    "ask_graph(\"whats latest ai news\")"
   ]
  },
  {
   "cell_type": "code",
   "execution_count": 57,
   "id": "3bb9a47c",
   "metadata": {},
   "outputs": [
    {
     "name": "stdout",
     "output_type": "stream",
     "text": [
      "documents after splitting: 9\n"
     ]
    }
   ],
   "source": [
    "urls=[\n",
    "    \"https://lilianweng.github.io/posts/2023-06-23-agent/\",\n",
    "    \"https://lilianweng.github.io/posts/2023-03-15-prompt-engineering/\",\n",
    "    \"https://lilianweng.github.io/posts/2023-10-25-adv-attack-llm/\",\n",
    "]\n",
    "\n",
    "\n",
    "\n",
    "from langchain.text_splitter import RecursiveCharacterTextSplitter\n",
    "from langchain_community.document_loaders import WebBaseLoader\n",
    "\n",
    "docs=[WebBaseLoader(url).load() for url in urls]\n",
    "docs_list=[item for sublist in docs for item in sublist]\n",
    "\n",
    "\n",
    "text_splitter=RecursiveCharacterTextSplitter.from_tiktoken_encoder()\n",
    "docs_split=text_splitter.split_documents(docs_list)\n",
    "print(f\"documents after splitting: {len(docs_split)}\")"
   ]
  },
  {
   "cell_type": "code",
   "execution_count": 79,
   "id": "ccef16d5",
   "metadata": {},
   "outputs": [
    {
     "name": "stderr",
     "output_type": "stream",
     "text": [
      "/var/folders/6g/w462_jfj57339_fv01jwj6l00000gp/T/ipykernel_94300/4189101505.py:8: LangChainDeprecationWarning: The class `Chroma` was deprecated in LangChain 0.2.9 and will be removed in 1.0. An updated version of the class exists in the :class:`~langchain-chroma package and should be used instead. To use it run `pip install -U :class:`~langchain-chroma` and import as `from :class:`~langchain_chroma import Chroma``.\n",
      "  vector_store = Chroma(\n"
     ]
    },
    {
     "name": "stdout",
     "output_type": "stream",
     "text": [
      "✅ Documents added to ChromaDB and saved locally.\n"
     ]
    },
    {
     "name": "stderr",
     "output_type": "stream",
     "text": [
      "/var/folders/6g/w462_jfj57339_fv01jwj6l00000gp/T/ipykernel_94300/4189101505.py:18: LangChainDeprecationWarning: Since Chroma 0.4.x the manual persistence method is no longer supported as docs are automatically persisted.\n",
      "  vector_store.persist()\n"
     ]
    }
   ],
   "source": [
    "from langchain_community.vectorstores import Chroma\n",
    "from langchain_community.embeddings import FastEmbedEmbeddings\n",
    "\n",
    "# 1. Initialize embeddings (fast & free)\n",
    "embeddings = FastEmbedEmbeddings(model_name=\"BAAI/bge-small-en-v1.5\")\n",
    "\n",
    "# 2. Create ChromaDB vector store (local persistence)\n",
    "vector_store = Chroma(\n",
    "    collection_name=\"documents\",\n",
    "    embedding_function=embeddings,\n",
    "    persist_directory=\"./chroma_db\"  # stores DB on disk\n",
    ")\n",
    "\n",
    "# 3. Add your documents\n",
    "vector_store.add_documents(docs_split)\n",
    "\n",
    "# 4. Persist to disk\n",
    "vector_store.persist()\n",
    "print(\"✅ Documents added to ChromaDB and saved locally.\")\n"
   ]
  },
  {
   "cell_type": "code",
   "execution_count": null,
   "id": "3c150bef",
   "metadata": {},
   "outputs": [],
   "source": [
    "query = \"hello\"\n",
    "results = vector_store.similarity_search(query, k=10)\n",
    "\n",
    "for i, res in enumerate(results, start=1):\n",
    "    print(f\"\\nResult {i}:\")\n",
    "    print(res)  # show snippet\n"
   ]
  },
  {
   "cell_type": "code",
   "execution_count": null,
   "id": "9fe9fd6a",
   "metadata": {},
   "outputs": [],
   "source": [
    "vector_store.add_documents(docs_split)\n",
    "vector_store.persist()\n",
    "\n",
    "# 4. Directly get retriever (no VectorStoreIndexWrapper needed)\n",
    "retriever = vector_store.as_retriever()\n",
    "\n",
    "# 5. Run a query\n",
    "query = \"Explain LangGraph memory\"\n",
    "docs = retriever.invoke(query)\n",
    "\n",
    "for i, doc in enumerate(docs, start=1):\n",
    "    print(f\"\\nResult {i}: {doc.page_content[:300]}\")"
   ]
  },
  {
   "cell_type": "code",
   "execution_count": 95,
   "id": "17b50a01",
   "metadata": {},
   "outputs": [],
   "source": [
    "from typing import Literal\n",
    "from langchain.pydantic_v1 import BaseModel, Field\n",
    "\n",
    "\n",
    "class ResponseFormatter(BaseModel):\n",
    "    \"\"\"Route a user query to most relevant datasource.\"\"\"\n",
    "\n",
    "    data_source: Literal[\"vector_store\", \"tavily_search\"] = Field(\n",
    "        ...,\n",
    "        description=\"Given a user query chose to route it to vector_store or tavliy_search\",\n",
    "    )\n",
    "    \n",
    "structured_llm=llm_with_tools.with_structured_output(ResponseFormatter) # type: ignore"
   ]
  },
  {
   "cell_type": "code",
   "execution_count": 96,
   "id": "8a668277",
   "metadata": {},
   "outputs": [],
   "source": [
    "from langchain_core.prompts import ChatPromptTemplate\n",
    "\n",
    "system= \"you are an expert in routing a user query to most relevant datasource, either vector_store or tavily_search, depending on user query route the user\"\n",
    "route_prompt=ChatPromptTemplate.from_messages([\n",
    "    (\"system\",system),\n",
    "    (\"user\",\"Decide whether to use vector_store or tavily_search to answer the question: {query}. Respond with a json object with a single field data_source whose value is either vector_store or tavily_search\"),\n",
    "])\n",
    "\n",
    "question_router=route_prompt | structured_llm\n"
   ]
  },
  {
   "cell_type": "code",
   "execution_count": 100,
   "id": "fb8d5d85",
   "metadata": {},
   "outputs": [
    {
     "data": {
      "text/plain": [
       "ResponseFormatter(data_source='tavily_search')"
      ]
     },
     "execution_count": 100,
     "metadata": {},
     "output_type": "execute_result"
    }
   ],
   "source": [
    "question_router.invoke({\"query\":\"what is prompt engineering? do web search\"})"
   ]
  }
 ],
 "metadata": {
  "kernelspec": {
   "display_name": ".venv",
   "language": "python",
   "name": "python3"
  },
  "language_info": {
   "codemirror_mode": {
    "name": "ipython",
    "version": 3
   },
   "file_extension": ".py",
   "mimetype": "text/x-python",
   "name": "python",
   "nbconvert_exporter": "python",
   "pygments_lexer": "ipython3",
   "version": "3.11.13"
  }
 },
 "nbformat": 4,
 "nbformat_minor": 5
}
